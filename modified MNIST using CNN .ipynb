{
 "cells": [
  {
   "cell_type": "code",
   "execution_count": 1,
   "id": "30126b93",
   "metadata": {},
   "outputs": [],
   "source": [
    "import numpy as np\n",
    "import torch\n",
    "import torch.nn as nn\n",
    "import torch.nn.functional as F\n",
    "from torchvision import datasets, transforms\n",
    "from tqdm.notebook import tqdm\n",
    "\n",
    "class CNN_Model(nn.Module):\n",
    "    def __init__(self):\n",
    "        super().__init__()\n",
    "        self.layer1 = nn.Conv2d(1, 32, kernel_size=3, padding=2)\n",
    "        self.layer2 = nn.Conv2d(32, 32, kernel_size=3, padding=2)\n",
    "        self.layer3 = nn.Conv2d(32, 64, kernel_size=3, padding=2)\n",
    "        self.layer4 = nn.Conv2d(64, 64, kernel_size=3, padding=2)\n",
    "        \n",
    "        self.fc1 = nn.Linear(10*10*64, 256)\n",
    "        self.fc2 = nn.Linear(256, 10)\n",
    "    \n",
    "    def forward(self,x):\n",
    "        #convo layer 1\n",
    "        x = self.layer1(x)\n",
    "        x = F.relu(x)\n",
    "        \n",
    "        #convo layer 2\n",
    "        x = self.layer2(x)\n",
    "        x = F.relu(x)\n",
    "        x = F.max_pool2d(x, kernel_size=2)\n",
    "        \n",
    "        #convo layer 3\n",
    "        x = self.layer3(x)\n",
    "        x = F.relu(x)\n",
    "        \n",
    "        #convo layer 4\n",
    "        x = self.layer4(x)\n",
    "        x = F.relu(x)\n",
    "        x = F.max_pool2d(x, kernel_size=2)\n",
    "        \n",
    "        #fc 1\n",
    "        x = x.view(-1,10*10*64)\n",
    "        x = self.fc1(x)\n",
    "        x = F.relu(x)\n",
    "        \n",
    "        #fc 2\n",
    "        x = self.fc2(x)\n",
    "        \n",
    "        return x"
   ]
  },
  {
   "cell_type": "code",
   "execution_count": 2,
   "id": "1f23ca11",
   "metadata": {},
   "outputs": [],
   "source": [
    "train_data = datasets.MNIST(root=\"./dataset\", train=True, transform=transforms.ToTensor(), download=False)\n",
    "test_data = datasets.MNIST(root=\"./dataset\", train=False, transform=transforms.ToTensor(), download=False)\n",
    "\n",
    "train_loader = torch.utils.data.DataLoader(train_data, batch_size=100, shuffle=True)\n",
    "test_loader = torch.utils.data.DataLoader(test_data, batch_size=100, shuffle=True)\n"
   ]
  },
  {
   "cell_type": "code",
   "execution_count": 3,
   "id": "c82f925a",
   "metadata": {},
   "outputs": [
    {
     "data": {
      "text/plain": [
       "6827008"
      ]
     },
     "execution_count": 3,
     "metadata": {},
     "output_type": "execute_result"
    }
   ],
   "source": [
    "model = CNN_Model()\n",
    "model = model.cuda()\n",
    "torch.cuda.memory_allocated()"
   ]
  },
  {
   "cell_type": "code",
   "execution_count": 4,
   "id": "6492feee",
   "metadata": {},
   "outputs": [
    {
     "data": {
      "application/vnd.jupyter.widget-view+json": {
       "model_id": "7a48bf61790d434a8acbed1cf9c88656",
       "version_major": 2,
       "version_minor": 0
      },
      "text/plain": [
       "  0%|          | 0/600 [00:00<?, ?it/s]"
      ]
     },
     "metadata": {},
     "output_type": "display_data"
    },
    {
     "data": {
      "application/vnd.jupyter.widget-view+json": {
       "model_id": "34e08603c9cd47ffac8339b64f89e2da",
       "version_major": 2,
       "version_minor": 0
      },
      "text/plain": [
       "  0%|          | 0/600 [00:00<?, ?it/s]"
      ]
     },
     "metadata": {},
     "output_type": "display_data"
    },
    {
     "data": {
      "application/vnd.jupyter.widget-view+json": {
       "model_id": "1171b4dd6c7e4c019a916f543f8a7cdf",
       "version_major": 2,
       "version_minor": 0
      },
      "text/plain": [
       "  0%|          | 0/600 [00:00<?, ?it/s]"
      ]
     },
     "metadata": {},
     "output_type": "display_data"
    }
   ],
   "source": [
    "\n",
    "\n",
    "criterion = nn.CrossEntropyLoss()\n",
    "optimizer = torch.optim.Adam(model.parameters(), lr=0.001)\n",
    "\n",
    "#training\n",
    "for epochs in range(3):\n",
    "    for image,label in tqdm(train_loader):\n",
    "        image, label = image.cuda(), label.cuda()\n",
    "        optimizer.zero_grad()\n",
    "        x = image\n",
    "        y = model(x)\n",
    "        loss = criterion(y,label)\n",
    "        loss.backward()\n",
    "        optimizer.step()"
   ]
  },
  {
   "cell_type": "code",
   "execution_count": 5,
   "id": "44fc75a4",
   "metadata": {},
   "outputs": [
    {
     "data": {
      "application/vnd.jupyter.widget-view+json": {
       "model_id": "3f02e73196d24bd5befefa93229037d1",
       "version_major": 2,
       "version_minor": 0
      },
      "text/plain": [
       "  0%|          | 0/100 [00:00<?, ?it/s]"
      ]
     },
     "metadata": {},
     "output_type": "display_data"
    },
    {
     "name": "stdout",
     "output_type": "stream",
     "text": [
      "Accuracy= 98.8899917602539%\n"
     ]
    }
   ],
   "source": [
    "# Testing\n",
    "correct = 0\n",
    "total = len(test_data)\n",
    "\n",
    "with torch.no_grad():\n",
    "    for images,labels in tqdm(test_loader):\n",
    "        images, labels = images.cuda(), labels.cuda()\n",
    "        x = images\n",
    "        y = model(x)\n",
    "        prediction = torch.argmax(y, dim=1)\n",
    "        correct+=torch.sum((prediction==labels).float())\n",
    "        \n",
    "print(f\"Accuracy= {(correct/total)*100}%\")"
   ]
  },
  {
   "cell_type": "code",
   "execution_count": 6,
   "id": "e36dbb37",
   "metadata": {},
   "outputs": [],
   "source": [
    "# 2 cells below this cell are for checking visually how our model performs\n",
    "# add index to load image and label in MNIST test_data\n",
    "# you will get the image and true label corresponding to the image\n",
    "# after running the next cell you will get the label predicted by our model"
   ]
  },
  {
   "cell_type": "code",
   "execution_count": 7,
   "id": "8fbf1f95",
   "metadata": {},
   "outputs": [
    {
     "name": "stdout",
     "output_type": "stream",
     "text": [
      "true lable: 4\n"
     ]
    },
    {
     "data": {
      "image/png": "[encoded data removed]",
      "text/plain": [
       "<Figure size 432x288 with 1 Axes>"
      ]
     },
     "metadata": {
      "needs_background": "light"
     },
     "output_type": "display_data"
    }
   ],
   "source": [
    "import matplotlib.pyplot as plt\n",
    "\n",
    "im,lb = test_data[5200]\n",
    "im = im.reshape([28,28])\n",
    "plt.imshow(im, cmap='gray')\n",
    "print(\"true lable: {}\".format(lb))"
   ]
  },
  {
   "cell_type": "code",
   "execution_count": 8,
   "id": "8168d35e",
   "metadata": {},
   "outputs": [
    {
     "name": "stdout",
     "output_type": "stream",
     "text": [
      "predicted label: tensor([4], device='cuda:0')\n"
     ]
    }
   ],
   "source": [
    "x = im.view(1,1,28,28)\n",
    "x = x.cuda()\n",
    "y = model(x)\n",
    "prediction = torch.argmax(y,dim=1)\n",
    "print(\"predicted label: {}\".format(prediction))"
   ]
  },
  {
   "cell_type": "code",
   "execution_count": null,
   "id": "4fc84258",
   "metadata": {},
   "outputs": [],
   "source": []
  }
 ],
 "metadata": {
  "kernelspec": {
   "display_name": "Python 3",
   "language": "python",
   "name": "python3"
  },
  "language_info": {
   "codemirror_mode": {
    "name": "ipython",
    "version": 3
   },
   "file_extension": ".py",
   "mimetype": "text/x-python",
   "name": "python",
   "nbconvert_exporter": "python",
   "pygments_lexer": "ipython3",
   "version": "3.8.8"
  }
 },
 "nbformat": 4,
 "nbformat_minor": 5
}
